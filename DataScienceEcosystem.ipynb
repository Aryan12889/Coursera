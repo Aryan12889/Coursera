{
 "cells": [
  {
   "cell_type": "markdown",
   "id": "5665a68b-4831-465e-9107-00fb74018850",
   "metadata": {},
   "source": [
    "# Data Science Tools and Ecosystem"
   ]
  },
  {
   "attachments": {},
   "cell_type": "markdown",
   "id": "48a40171-f811-49da-a519-648fcdd6f969",
   "metadata": {},
   "source": [
    "In this notebook, Data Science Tools and Ecosystem are summarized."
   ]
  },
  {
   "cell_type": "markdown",
   "id": "3c16fd2d-4165-4298-8d87-491edd167fed",
   "metadata": {},
   "source": [
    "Some of the popular languages that Data Scientists use are:\n",
    "1. Python\n",
    "2. R\n",
    "3. Julia"
   ]
  },
  {
   "cell_type": "markdown",
   "id": "f54b2f51-aa3f-41c5-a424-26300188c1e1",
   "metadata": {},
   "source": [
    "Some of the commonly used libraries used by Data Scientists include:\n",
    "1. Numpy\n",
    "2. Matplotlib\n",
    "3. Pandas\n",
    "4. GGPlot\n",
    "5. Plotly"
   ]
  },
  {
   "cell_type": "markdown",
   "id": "21e112ff-4791-48cd-9154-256e01bdff42",
   "metadata": {},
   "source": [
    "| Data Science Tools |\n",
    "| :----------------: |\n",
    "| Apache Spark |\n",
    "| TensorFlow |\n",
    "| RStudio |"
   ]
  },
  {
   "cell_type": "markdown",
   "id": "bd9a0607-321a-41b1-a331-d4f71556c97c",
   "metadata": {},
   "source": [
    "### Below are a few examples of evaluating arithmetic expressions in Python"
   ]
  },
  {
   "cell_type": "code",
   "execution_count": 1,
   "id": "4d58519b-4cdc-48c0-b6e5-e5421b4840f0",
   "metadata": {},
   "outputs": [
    {
     "name": "stdout",
     "output_type": "stream",
     "text": [
      "17\n"
     ]
    }
   ],
   "source": [
    "x=(3*4)+5\n",
    "print(x)\n",
    "# This a simple arithmetic expression to mutiply then add integers"
   ]
  },
  {
   "cell_type": "code",
   "execution_count": 4,
   "id": "51f079ab-4cac-4624-a768-1a9be1a84801",
   "metadata": {},
   "outputs": [
    {
     "name": "stdout",
     "output_type": "stream",
     "text": [
      "3.3333333333333335 hours\n"
     ]
    }
   ],
   "source": [
    "min=200\n",
    "hrs=min/60\n",
    "print(hrs,\"hours\")\n",
    "#This will convert 200 minutes to hours by diving by 60"
   ]
  },
  {
   "cell_type": "markdown",
   "id": "a0934621-4b34-4634-b89a-ce5cc30e910b",
   "metadata": {},
   "source": [
    "Objectives:\n",
    "* List of Popular Data Science Languages\n",
    "* List of Popular Data Science Libraries\n",
    "* List of various open source Data Science Platforms\n",
    "* Examples of Arithmetic Expressions in Python"
   ]
  },
  {
   "cell_type": "markdown",
   "id": "de7ea3c3-8c43-4b41-9255-d60037d8b2ef",
   "metadata": {},
   "source": [
    "## Author\n",
    "Aryan Bali"
   ]
  },
  {
   "cell_type": "code",
   "execution_count": null,
   "id": "be39b8a4-916c-4f64-a1d4-225811dbe36b",
   "metadata": {},
   "outputs": [],
   "source": []
  }
 ],
 "metadata": {
  "kernelspec": {
   "display_name": "Python 3 (ipykernel)",
   "language": "python",
   "name": "python3"
  },
  "language_info": {
   "codemirror_mode": {
    "name": "ipython",
    "version": 3
   },
   "file_extension": ".py",
   "mimetype": "text/x-python",
   "name": "python",
   "nbconvert_exporter": "python",
   "pygments_lexer": "ipython3",
   "version": "3.12.8"
  }
 },
 "nbformat": 4,
 "nbformat_minor": 5
}
